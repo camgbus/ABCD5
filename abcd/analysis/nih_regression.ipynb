{
 "cells": [
  {
   "cell_type": "code",
   "execution_count": 1,
   "metadata": {},
   "outputs": [],
   "source": [
    "%load_ext autoreload\n",
    "%autoreload 2"
   ]
  },
  {
   "cell_type": "code",
   "execution_count": 2,
   "metadata": {},
   "outputs": [
    {
     "name": "stdout",
     "output_type": "stream",
     "text": [
      "Intel MKL WARNING: Support of Intel(R) Streaming SIMD Extensions 4.2 (Intel(R) SSE4.2) enabled only processors has been deprecated. Intel oneAPI Math Kernel Library 2025.0 will require Intel(R) Advanced Vector Extensions (Intel(R) AVX) instructions.\n",
      "Intel MKL WARNING: Support of Intel(R) Streaming SIMD Extensions 4.2 (Intel(R) SSE4.2) enabled only processors has been deprecated. Intel oneAPI Math Kernel Library 2025.0 will require Intel(R) Advanced Vector Extensions (Intel(R) AVX) instructions.\n"
     ]
    }
   ],
   "source": [
    "import os\n",
    "import pandas as pd\n",
    "from collections import OrderedDict\n",
    "import torch\n",
    "torch.manual_seed(0)\n",
    "from torch import nn\n",
    "from torch.utils.data import DataLoader\n",
    "from torchvision import datasets\n",
    "from torchvision.transforms import ToTensor\n",
    "from tqdm import tqdm\n",
    "from abcd.local.paths import output_path\n",
    "from abcd.data.read_data import get_subjects_events_sf, add_event_vars, add_subject_vars, filter_events, filter_subjects\n",
    "import abcd.data.VARS as VARS\n",
    "from abcd.data.define_splits import SITES, save_restore_sex_fmri_splits\n",
    "from abcd.data.divide_with_splits import divide_events_by_splits\n",
    "from abcd.data.var_tailoring.normalization import normalize_var\n",
    "from abcd.data.pytorch.get_dataset import PandasDataset\n",
    "from abcd.local.paths import core_path, output_path\n",
    "from abcd.data.VARS import STRUCT_FILES, STRUCT_FEATURES\n",
    "\n",
    "from abcd.models.regression.LinearRegressor import LinearRegressor\n",
    "from abcd.training.RegressorTrainer import RegressorTrainer"
   ]
  },
  {
   "attachments": {},
   "cell_type": "markdown",
   "metadata": {},
   "source": [
    "# Preprocess\n",
    "1. Fetch subject and events dataframes\n",
    "2. Change sex assigned at birth labels to 0 (male), 1 (female)\n",
    "3. Filter out all non-baseline events\n",
    "4. Define target column (sex assigned at birth), and features columns (functional connectivities and structural features)\n",
    "5. Normalize features\n",
    "6. train/val/test split"
   ]
  },
  {
   "cell_type": "code",
   "execution_count": 3,
   "metadata": {},
   "outputs": [
    {
     "name": "stdout",
     "output_type": "stream",
     "text": [
      "Leaving only baseline visits, we have 9086 events\n"
     ]
    }
   ],
   "source": [
    "# Fetch subjects and events\n",
    "subjects_df, events_df = get_subjects_events_sf()\n",
    "# Change to 0 (male) and 1 (female)\n",
    "events_df.loc[events_df[\"kbi_sex_assigned_at_birth\"] == 1.0, \"kbi_sex_assigned_at_birth\"] = float(0)\n",
    "events_df.loc[events_df[\"kbi_sex_assigned_at_birth\"] == 2.0, \"kbi_sex_assigned_at_birth\"] = float(1)\n",
    "# Leave only the baseline visits\n",
    "events_df = events_df.loc[(events_df['eventname'] == 'baseline_year_1_arm_1')]\n",
    "print(\"Leaving only baseline visits, we have {} events\".format(len(events_df)))"
   ]
  },
  {
   "cell_type": "code",
   "execution_count": 4,
   "metadata": {},
   "outputs": [
    {
     "name": "stdout",
     "output_type": "stream",
     "text": [
      "4704 visits with Male target\n",
      "4382 visits with Female target\n"
     ]
    }
   ],
   "source": [
    "# Define target and features\n",
    "target_col = 'kbi_sex_assigned_at_birth'\n",
    "labels = [\"Male\", \"Female\"]\n",
    "feature_cols = list(VARS.NAMED_CONNECTIONS.keys()) + list(VARS.STRUCT_FEATURES.keys())\n",
    "\n",
    "# Print distribution of baseline class\n",
    "for val in set(events_df['kbi_sex_assigned_at_birth']):\n",
    "    print('{} visits with {} target'.format(len(events_df.loc[events_df[\"kbi_sex_assigned_at_birth\"] == val]), labels[int(val)]))"
   ]
  },
  {
   "cell_type": "code",
   "execution_count": 5,
   "metadata": {},
   "outputs": [],
   "source": [
    "# Normalize features\n",
    "for var_id in feature_cols:\n",
    "    events_df = normalize_var(events_df, var_id, var_id)"
   ]
  },
  {
   "cell_type": "code",
   "execution_count": 6,
   "metadata": {},
   "outputs": [
    {
     "name": "stdout",
     "output_type": "stream",
     "text": [
      "Nr. events train: 7064, val: 1738, test: 284\n"
     ]
    }
   ],
   "source": [
    "# Divide events into training, validation and testing\n",
    "splits = save_restore_sex_fmri_splits(k=5)\n",
    "ood_site_id = SITES[0]\n",
    "events_train, events_id_test, events_ood_test = divide_events_by_splits(events_df, splits, ood_site_id)\n",
    "print(\"Nr. events train: {}, val: {}, test: {}\".format(len(events_train), len(events_id_test), len(events_ood_test)))"
   ]
  },
  {
   "attachments": {},
   "cell_type": "markdown",
   "metadata": {},
   "source": [
    "# Linear Regression"
   ]
  },
  {
   "cell_type": "code",
   "execution_count": 7,
   "metadata": {},
   "outputs": [],
   "source": [
    "# Define PyTorch datasets and dataloaders\n",
    "datasets = OrderedDict([('train', PandasDataset(events_train, feature_cols, target_col)),\n",
    "            ('val', PandasDataset(events_id_test, feature_cols, target_col)),\n",
    "            ('test', PandasDataset(events_ood_test, feature_cols, target_col))])"
   ]
  },
  {
   "cell_type": "code",
   "execution_count": 8,
   "metadata": {},
   "outputs": [
    {
     "name": "stdout",
     "output_type": "stream",
     "text": [
      "Shape of X: torch.Size([64, 177])\n",
      "Shape of y: torch.Size([64]) torch.int64\n"
     ]
    }
   ],
   "source": [
    "# Create dataloaders\n",
    "batch_size = 64\n",
    "dataloaders = OrderedDict([(dataset_name, DataLoader(dataset, batch_size=batch_size, shuffle=True))\n",
    "    for dataset_name, dataset in datasets.items()])\n",
    "\n",
    "for X, y in dataloaders['train']:\n",
    "    print(f\"Shape of X: {X.shape}\")\n",
    "    print(f\"Shape of y: {y.shape} {y.dtype}\")\n",
    "    break"
   ]
  },
  {
   "cell_type": "code",
   "execution_count": 9,
   "metadata": {},
   "outputs": [
    {
     "name": "stdout",
     "output_type": "stream",
     "text": [
      "Using cpu device\n"
     ]
    }
   ],
   "source": [
    "# Determine device for training\n",
    "device = \"cpu\" #(\"cuda\" if torch.cuda.is_available() else \"mps\" if torch.backends.mps.is_available() else \"cpu\")\n",
    "print(\"Using {} device\".format(device))"
   ]
  },
  {
   "cell_type": "code",
   "execution_count": 10,
   "metadata": {},
   "outputs": [
    {
     "name": "stdout",
     "output_type": "stream",
     "text": [
      "LinearRegressor(\n",
      "  (linear): Linear(in_features=177, out_features=1, bias=True)\n",
      ")\n"
     ]
    }
   ],
   "source": [
    "# Define model\n",
    "models_path = os.path.join(output_path, 'ABCD_sex_prediction_lr', 'models')\n",
    "\n",
    "model = LinearRegressor(save_path=models_path, input_size=len(feature_cols))\n",
    "\n",
    "model = model.to(device)\n",
    "print(model)"
   ]
  },
  {
   "cell_type": "code",
   "execution_count": 11,
   "metadata": {},
   "outputs": [],
   "source": [
    "# Define optimizer and trainer\n",
    "learning_rate = 1e-1\n",
    "loss_f = nn.MSELoss()\n",
    "\n",
    "trainer_path = os.path.join(output_path, 'ABCD_sex_prediction_lr', 'results')\n",
    "optimizer = torch.optim.SGD(model.parameters(), lr=learning_rate)\n",
    "\n",
    "trainer = RegressorTrainer(trainer_path, device, optimizer, loss_f)"
   ]
  },
  {
   "cell_type": "code",
   "execution_count": 15,
   "metadata": {},
   "outputs": [
    {
     "name": "stderr",
     "output_type": "stream",
     "text": [
      "  0%|          | 0/100 [00:00<?, ?it/s]/Users/carolinezanze/anaconda3/envs/cns/lib/python3.11/site-packages/torch/nn/modules/loss.py:536: UserWarning: Using a target size (torch.Size([64])) that is different to the input size (torch.Size([64, 1])). This will likely lead to incorrect results due to broadcasting. Please ensure they have the same size.\n",
      "  return F.mse_loss(input, target, reduction=self.reduction)\n",
      "/Users/carolinezanze/anaconda3/envs/cns/lib/python3.11/site-packages/torch/nn/modules/loss.py:536: UserWarning: Using a target size (torch.Size([10])) that is different to the input size (torch.Size([10, 1])). This will likely lead to incorrect results due to broadcasting. Please ensure they have the same size.\n",
      "  return F.mse_loss(input, target, reduction=self.reduction)\n",
      "/Users/carolinezanze/anaconda3/envs/cns/lib/python3.11/site-packages/torch/nn/modules/loss.py:536: UserWarning: Using a target size (torch.Size([64])) that is different to the input size (torch.Size([64, 1])). This will likely lead to incorrect results due to broadcasting. Please ensure they have the same size.\n",
      "  return F.mse_loss(input, target, reduction=self.reduction)\n",
      "/Users/carolinezanze/anaconda3/envs/cns/lib/python3.11/site-packages/torch/nn/modules/loss.py:536: UserWarning: Using a target size (torch.Size([28])) that is different to the input size (torch.Size([28, 1])). This will likely lead to incorrect results due to broadcasting. Please ensure they have the same size.\n",
      "  return F.mse_loss(input, target, reduction=self.reduction)\n",
      "/Users/carolinezanze/anaconda3/envs/cns/lib/python3.11/site-packages/torch/nn/modules/loss.py:536: UserWarning: Using a target size (torch.Size([64])) that is different to the input size (torch.Size([64, 1])). This will likely lead to incorrect results due to broadcasting. Please ensure they have the same size.\n",
      "  return F.mse_loss(input, target, reduction=self.reduction)\n",
      "/Users/carolinezanze/anaconda3/envs/cns/lib/python3.11/site-packages/torch/nn/modules/loss.py:536: UserWarning: Using a target size (torch.Size([24])) that is different to the input size (torch.Size([24, 1])). This will likely lead to incorrect results due to broadcasting. Please ensure they have the same size.\n",
      "  return F.mse_loss(input, target, reduction=self.reduction)\n",
      "  5%|▌         | 5/100 [00:00<00:04, 20.68it/s]"
     ]
    },
    {
     "name": "stdout",
     "output_type": "stream",
     "text": [
      "Epoch 0\n",
      "train MSELoss: 0.250 MSE: 0.249\n",
      "val MSELoss: 0.250 MSE: 0.248\n",
      "test MSELoss: 0.251 MSE: 0.250\n",
      "Saved PyTorch model state LinearRegressor_epoch0.pth in /Users/carolinezanze/Desktop/abcd5_output/ABCD_sex_prediction_lr/models\n",
      "Saved trainer state RegressorTrainer_optimizer_epoch0.pth in /Users/carolinezanze/Desktop/abcd5_output/ABCD_sex_prediction_lr/results/states\n",
      "Progress stored in /Users/carolinezanze/Desktop/abcd5_output/ABCD_sex_prediction_lr/results\n",
      "Ending epoch 1, loss 0.2501215044711087\n",
      "Ending epoch 2, loss 0.2500013605699883\n",
      "Ending epoch 3, loss 0.2501028259326746\n",
      "Ending epoch 4, loss 0.25005126603551814\n",
      "Ending epoch 5, loss 0.2500514667313378\n"
     ]
    },
    {
     "name": "stderr",
     "output_type": "stream",
     "text": [
      "  8%|▊         | 8/100 [00:00<00:04, 22.95it/s]"
     ]
    },
    {
     "name": "stdout",
     "output_type": "stream",
     "text": [
      "Ending epoch 6, loss 0.2501188895186862\n",
      "Ending epoch 7, loss 0.25014638350353585\n",
      "Ending epoch 8, loss 0.250043273374841\n",
      "Ending epoch 9, loss 0.24983439829435433\n",
      "Ending epoch 10, loss 0.24997380362437652\n",
      "Epoch 10\n",
      "train MSELoss: 0.250 MSE: 0.248\n",
      "val MSELoss: 0.250 MSE: 0.248\n",
      "test MSELoss: 0.251 MSE: 0.250\n"
     ]
    },
    {
     "name": "stderr",
     "output_type": "stream",
     "text": [
      "/Users/carolinezanze/anaconda3/envs/cns/lib/python3.11/site-packages/torch/nn/modules/loss.py:536: UserWarning: Using a target size (torch.Size([64])) that is different to the input size (torch.Size([64, 1])). This will likely lead to incorrect results due to broadcasting. Please ensure they have the same size.\n",
      "  return F.mse_loss(input, target, reduction=self.reduction)\n",
      "/Users/carolinezanze/anaconda3/envs/cns/lib/python3.11/site-packages/torch/nn/modules/loss.py:536: UserWarning: Using a target size (torch.Size([10])) that is different to the input size (torch.Size([10, 1])). This will likely lead to incorrect results due to broadcasting. Please ensure they have the same size.\n",
      "  return F.mse_loss(input, target, reduction=self.reduction)\n",
      "/Users/carolinezanze/anaconda3/envs/cns/lib/python3.11/site-packages/torch/nn/modules/loss.py:536: UserWarning: Using a target size (torch.Size([64])) that is different to the input size (torch.Size([64, 1])). This will likely lead to incorrect results due to broadcasting. Please ensure they have the same size.\n",
      "  return F.mse_loss(input, target, reduction=self.reduction)\n",
      "/Users/carolinezanze/anaconda3/envs/cns/lib/python3.11/site-packages/torch/nn/modules/loss.py:536: UserWarning: Using a target size (torch.Size([28])) that is different to the input size (torch.Size([28, 1])). This will likely lead to incorrect results due to broadcasting. Please ensure they have the same size.\n",
      "  return F.mse_loss(input, target, reduction=self.reduction)\n",
      "/Users/carolinezanze/anaconda3/envs/cns/lib/python3.11/site-packages/torch/nn/modules/loss.py:536: UserWarning: Using a target size (torch.Size([64])) that is different to the input size (torch.Size([64, 1])). This will likely lead to incorrect results due to broadcasting. Please ensure they have the same size.\n",
      "  return F.mse_loss(input, target, reduction=self.reduction)\n",
      "/Users/carolinezanze/anaconda3/envs/cns/lib/python3.11/site-packages/torch/nn/modules/loss.py:536: UserWarning: Using a target size (torch.Size([24])) that is different to the input size (torch.Size([24, 1])). This will likely lead to incorrect results due to broadcasting. Please ensure they have the same size.\n",
      "  return F.mse_loss(input, target, reduction=self.reduction)\n",
      " 14%|█▍        | 14/100 [00:00<00:03, 21.82it/s]"
     ]
    },
    {
     "name": "stdout",
     "output_type": "stream",
     "text": [
      "Ending epoch 11, loss 0.25007448795142473\n",
      "Ending epoch 12, loss 0.250123622315424\n",
      "Ending epoch 13, loss 0.2501865390453253\n",
      "Ending epoch 14, loss 0.2501150311918946\n",
      "Ending epoch 15, loss 0.25012195405659376\n"
     ]
    },
    {
     "name": "stderr",
     "output_type": "stream",
     "text": [
      " 20%|██        | 20/100 [00:00<00:03, 22.98it/s]"
     ]
    },
    {
     "name": "stdout",
     "output_type": "stream",
     "text": [
      "Ending epoch 16, loss 0.24997746434297646\n",
      "Ending epoch 17, loss 0.2500513491329846\n",
      "Ending epoch 18, loss 0.24998286702074446\n",
      "Ending epoch 19, loss 0.25001791052453154\n",
      "Ending epoch 20, loss 0.24994013492051545\n"
     ]
    },
    {
     "name": "stderr",
     "output_type": "stream",
     "text": [
      "/Users/carolinezanze/anaconda3/envs/cns/lib/python3.11/site-packages/torch/nn/modules/loss.py:536: UserWarning: Using a target size (torch.Size([64])) that is different to the input size (torch.Size([64, 1])). This will likely lead to incorrect results due to broadcasting. Please ensure they have the same size.\n",
      "  return F.mse_loss(input, target, reduction=self.reduction)\n",
      "/Users/carolinezanze/anaconda3/envs/cns/lib/python3.11/site-packages/torch/nn/modules/loss.py:536: UserWarning: Using a target size (torch.Size([10])) that is different to the input size (torch.Size([10, 1])). This will likely lead to incorrect results due to broadcasting. Please ensure they have the same size.\n",
      "  return F.mse_loss(input, target, reduction=self.reduction)\n",
      "/Users/carolinezanze/anaconda3/envs/cns/lib/python3.11/site-packages/torch/nn/modules/loss.py:536: UserWarning: Using a target size (torch.Size([64])) that is different to the input size (torch.Size([64, 1])). This will likely lead to incorrect results due to broadcasting. Please ensure they have the same size.\n",
      "  return F.mse_loss(input, target, reduction=self.reduction)\n",
      "/Users/carolinezanze/anaconda3/envs/cns/lib/python3.11/site-packages/torch/nn/modules/loss.py:536: UserWarning: Using a target size (torch.Size([28])) that is different to the input size (torch.Size([28, 1])). This will likely lead to incorrect results due to broadcasting. Please ensure they have the same size.\n",
      "  return F.mse_loss(input, target, reduction=self.reduction)\n",
      "/Users/carolinezanze/anaconda3/envs/cns/lib/python3.11/site-packages/torch/nn/modules/loss.py:536: UserWarning: Using a target size (torch.Size([64])) that is different to the input size (torch.Size([64, 1])). This will likely lead to incorrect results due to broadcasting. Please ensure they have the same size.\n",
      "  return F.mse_loss(input, target, reduction=self.reduction)\n",
      "/Users/carolinezanze/anaconda3/envs/cns/lib/python3.11/site-packages/torch/nn/modules/loss.py:536: UserWarning: Using a target size (torch.Size([24])) that is different to the input size (torch.Size([24, 1])). This will likely lead to incorrect results due to broadcasting. Please ensure they have the same size.\n",
      "  return F.mse_loss(input, target, reduction=self.reduction)\n",
      " 23%|██▎       | 23/100 [00:01<00:03, 20.27it/s]"
     ]
    },
    {
     "name": "stdout",
     "output_type": "stream",
     "text": [
      "Epoch 20\n",
      "train MSELoss: 0.250 MSE: 0.248\n",
      "val MSELoss: 0.250 MSE: 0.249\n",
      "test MSELoss: 0.250 MSE: 0.249\n",
      "Ending epoch 21, loss 0.2501317739218205\n",
      "Ending epoch 22, loss 0.24994032621920645\n",
      "Ending epoch 23, loss 0.25013991935296104\n",
      "Ending epoch 24, loss 0.24985743293891083\n"
     ]
    },
    {
     "name": "stderr",
     "output_type": "stream",
     "text": [
      " 29%|██▉       | 29/100 [00:01<00:03, 22.82it/s]"
     ]
    },
    {
     "name": "stdout",
     "output_type": "stream",
     "text": [
      "Ending epoch 25, loss 0.2500385633997015\n",
      "Ending epoch 26, loss 0.25006073458237693\n",
      "Ending epoch 27, loss 0.24994125411854134\n",
      "Ending epoch 28, loss 0.24987785464471524\n",
      "Ending epoch 29, loss 0.2501477882400289\n",
      "Ending epoch 30, loss 0.2500424299154196\n"
     ]
    },
    {
     "name": "stderr",
     "output_type": "stream",
     "text": [
      "/Users/carolinezanze/anaconda3/envs/cns/lib/python3.11/site-packages/torch/nn/modules/loss.py:536: UserWarning: Using a target size (torch.Size([64])) that is different to the input size (torch.Size([64, 1])). This will likely lead to incorrect results due to broadcasting. Please ensure they have the same size.\n",
      "  return F.mse_loss(input, target, reduction=self.reduction)\n",
      "/Users/carolinezanze/anaconda3/envs/cns/lib/python3.11/site-packages/torch/nn/modules/loss.py:536: UserWarning: Using a target size (torch.Size([10])) that is different to the input size (torch.Size([10, 1])). This will likely lead to incorrect results due to broadcasting. Please ensure they have the same size.\n",
      "  return F.mse_loss(input, target, reduction=self.reduction)\n",
      "/Users/carolinezanze/anaconda3/envs/cns/lib/python3.11/site-packages/torch/nn/modules/loss.py:536: UserWarning: Using a target size (torch.Size([64])) that is different to the input size (torch.Size([64, 1])). This will likely lead to incorrect results due to broadcasting. Please ensure they have the same size.\n",
      "  return F.mse_loss(input, target, reduction=self.reduction)\n",
      "/Users/carolinezanze/anaconda3/envs/cns/lib/python3.11/site-packages/torch/nn/modules/loss.py:536: UserWarning: Using a target size (torch.Size([28])) that is different to the input size (torch.Size([28, 1])). This will likely lead to incorrect results due to broadcasting. Please ensure they have the same size.\n",
      "  return F.mse_loss(input, target, reduction=self.reduction)\n",
      "/Users/carolinezanze/anaconda3/envs/cns/lib/python3.11/site-packages/torch/nn/modules/loss.py:536: UserWarning: Using a target size (torch.Size([64])) that is different to the input size (torch.Size([64, 1])). This will likely lead to incorrect results due to broadcasting. Please ensure they have the same size.\n",
      "  return F.mse_loss(input, target, reduction=self.reduction)\n",
      "/Users/carolinezanze/anaconda3/envs/cns/lib/python3.11/site-packages/torch/nn/modules/loss.py:536: UserWarning: Using a target size (torch.Size([24])) that is different to the input size (torch.Size([24, 1])). This will likely lead to incorrect results due to broadcasting. Please ensure they have the same size.\n",
      "  return F.mse_loss(input, target, reduction=self.reduction)\n",
      " 35%|███▌      | 35/100 [00:01<00:02, 22.64it/s]"
     ]
    },
    {
     "name": "stdout",
     "output_type": "stream",
     "text": [
      "Epoch 30\n",
      "train MSELoss: 0.250 MSE: 0.248\n",
      "val MSELoss: 0.250 MSE: 0.249\n",
      "test MSELoss: 0.250 MSE: 0.249\n",
      "Ending epoch 31, loss 0.2500469166416306\n",
      "Ending epoch 32, loss 0.25001323155991667\n",
      "Ending epoch 33, loss 0.24993157333081906\n",
      "Ending epoch 34, loss 0.2499672444285573\n",
      "Ending epoch 35, loss 0.2501228671890121\n"
     ]
    },
    {
     "name": "stderr",
     "output_type": "stream",
     "text": [
      " 38%|███▊      | 38/100 [00:01<00:02, 23.63it/s]"
     ]
    },
    {
     "name": "stdout",
     "output_type": "stream",
     "text": [
      "Ending epoch 36, loss 0.2501449887011502\n",
      "Ending epoch 37, loss 0.2501290389546403\n",
      "Ending epoch 38, loss 0.24994212617208292\n",
      "Ending epoch 39, loss 0.2501225421826045\n",
      "Ending epoch 40, loss 0.2500255368314348\n",
      "Epoch 40\n",
      "train MSELoss: 0.250 MSE: 0.248\n",
      "val MSELoss: 0.250 MSE: 0.248\n",
      "test MSELoss: 0.250 MSE: 0.250\n"
     ]
    },
    {
     "name": "stderr",
     "output_type": "stream",
     "text": [
      "/Users/carolinezanze/anaconda3/envs/cns/lib/python3.11/site-packages/torch/nn/modules/loss.py:536: UserWarning: Using a target size (torch.Size([64])) that is different to the input size (torch.Size([64, 1])). This will likely lead to incorrect results due to broadcasting. Please ensure they have the same size.\n",
      "  return F.mse_loss(input, target, reduction=self.reduction)\n",
      "/Users/carolinezanze/anaconda3/envs/cns/lib/python3.11/site-packages/torch/nn/modules/loss.py:536: UserWarning: Using a target size (torch.Size([10])) that is different to the input size (torch.Size([10, 1])). This will likely lead to incorrect results due to broadcasting. Please ensure they have the same size.\n",
      "  return F.mse_loss(input, target, reduction=self.reduction)\n",
      "/Users/carolinezanze/anaconda3/envs/cns/lib/python3.11/site-packages/torch/nn/modules/loss.py:536: UserWarning: Using a target size (torch.Size([64])) that is different to the input size (torch.Size([64, 1])). This will likely lead to incorrect results due to broadcasting. Please ensure they have the same size.\n",
      "  return F.mse_loss(input, target, reduction=self.reduction)\n",
      "/Users/carolinezanze/anaconda3/envs/cns/lib/python3.11/site-packages/torch/nn/modules/loss.py:536: UserWarning: Using a target size (torch.Size([28])) that is different to the input size (torch.Size([28, 1])). This will likely lead to incorrect results due to broadcasting. Please ensure they have the same size.\n",
      "  return F.mse_loss(input, target, reduction=self.reduction)\n",
      "/Users/carolinezanze/anaconda3/envs/cns/lib/python3.11/site-packages/torch/nn/modules/loss.py:536: UserWarning: Using a target size (torch.Size([64])) that is different to the input size (torch.Size([64, 1])). This will likely lead to incorrect results due to broadcasting. Please ensure they have the same size.\n",
      "  return F.mse_loss(input, target, reduction=self.reduction)\n",
      "/Users/carolinezanze/anaconda3/envs/cns/lib/python3.11/site-packages/torch/nn/modules/loss.py:536: UserWarning: Using a target size (torch.Size([24])) that is different to the input size (torch.Size([24, 1])). This will likely lead to incorrect results due to broadcasting. Please ensure they have the same size.\n",
      "  return F.mse_loss(input, target, reduction=self.reduction)\n",
      " 44%|████▍     | 44/100 [00:01<00:02, 22.81it/s]"
     ]
    },
    {
     "name": "stdout",
     "output_type": "stream",
     "text": [
      "Ending epoch 41, loss 0.2501648612119056\n",
      "Ending epoch 42, loss 0.24997368709998088\n",
      "Ending epoch 43, loss 0.24998003244400024\n",
      "Ending epoch 44, loss 0.2500488085521234\n",
      "Ending epoch 45, loss 0.24995277728046383\n",
      "Ending epoch 46, loss 0.2500002635223372\n"
     ]
    },
    {
     "name": "stderr",
     "output_type": "stream",
     "text": [
      " 50%|█████     | 50/100 [00:02<00:02, 24.04it/s]"
     ]
    },
    {
     "name": "stdout",
     "output_type": "stream",
     "text": [
      "Ending epoch 47, loss 0.2499637333927928\n",
      "Ending epoch 48, loss 0.2499457040617058\n",
      "Ending epoch 49, loss 0.2500243052705988\n",
      "Ending epoch 50, loss 0.2501085342856141\n",
      "Epoch 50\n",
      "train MSELoss: 0.250 MSE: 0.248\n",
      "val MSELoss: 0.250 MSE: 0.248\n",
      "test MSELoss: 0.250 MSE: 0.249\n",
      "Saved PyTorch model state LinearRegressor_epoch50.pth in /Users/carolinezanze/Desktop/abcd5_output/ABCD_sex_prediction_lr/models\n",
      "Saved trainer state RegressorTrainer_optimizer_epoch50.pth in /Users/carolinezanze/Desktop/abcd5_output/ABCD_sex_prediction_lr/results/states\n",
      "Progress stored in /Users/carolinezanze/Desktop/abcd5_output/ABCD_sex_prediction_lr/results\n"
     ]
    },
    {
     "name": "stderr",
     "output_type": "stream",
     "text": [
      "/Users/carolinezanze/anaconda3/envs/cns/lib/python3.11/site-packages/torch/nn/modules/loss.py:536: UserWarning: Using a target size (torch.Size([64])) that is different to the input size (torch.Size([64, 1])). This will likely lead to incorrect results due to broadcasting. Please ensure they have the same size.\n",
      "  return F.mse_loss(input, target, reduction=self.reduction)\n",
      "/Users/carolinezanze/anaconda3/envs/cns/lib/python3.11/site-packages/torch/nn/modules/loss.py:536: UserWarning: Using a target size (torch.Size([10])) that is different to the input size (torch.Size([10, 1])). This will likely lead to incorrect results due to broadcasting. Please ensure they have the same size.\n",
      "  return F.mse_loss(input, target, reduction=self.reduction)\n",
      "/Users/carolinezanze/anaconda3/envs/cns/lib/python3.11/site-packages/torch/nn/modules/loss.py:536: UserWarning: Using a target size (torch.Size([64])) that is different to the input size (torch.Size([64, 1])). This will likely lead to incorrect results due to broadcasting. Please ensure they have the same size.\n",
      "  return F.mse_loss(input, target, reduction=self.reduction)\n",
      "/Users/carolinezanze/anaconda3/envs/cns/lib/python3.11/site-packages/torch/nn/modules/loss.py:536: UserWarning: Using a target size (torch.Size([28])) that is different to the input size (torch.Size([28, 1])). This will likely lead to incorrect results due to broadcasting. Please ensure they have the same size.\n",
      "  return F.mse_loss(input, target, reduction=self.reduction)\n",
      "/Users/carolinezanze/anaconda3/envs/cns/lib/python3.11/site-packages/torch/nn/modules/loss.py:536: UserWarning: Using a target size (torch.Size([64])) that is different to the input size (torch.Size([64, 1])). This will likely lead to incorrect results due to broadcasting. Please ensure they have the same size.\n",
      "  return F.mse_loss(input, target, reduction=self.reduction)\n",
      "/Users/carolinezanze/anaconda3/envs/cns/lib/python3.11/site-packages/torch/nn/modules/loss.py:536: UserWarning: Using a target size (torch.Size([24])) that is different to the input size (torch.Size([24, 1])). This will likely lead to incorrect results due to broadcasting. Please ensure they have the same size.\n",
      "  return F.mse_loss(input, target, reduction=self.reduction)\n",
      " 53%|█████▎    | 53/100 [00:02<00:02, 21.49it/s]"
     ]
    },
    {
     "name": "stdout",
     "output_type": "stream",
     "text": [
      "Ending epoch 51, loss 0.2497928099589305\n",
      "Ending epoch 52, loss 0.25014408724802034\n",
      "Ending epoch 53, loss 0.2501022729787741\n",
      "Ending epoch 54, loss 0.24998828822428043\n",
      "Ending epoch 55, loss 0.249759442500166\n"
     ]
    },
    {
     "name": "stderr",
     "output_type": "stream",
     "text": [
      " 59%|█████▉    | 59/100 [00:02<00:01, 23.39it/s]"
     ]
    },
    {
     "name": "stdout",
     "output_type": "stream",
     "text": [
      "Ending epoch 56, loss 0.250106255481909\n",
      "Ending epoch 57, loss 0.25001224069981964\n",
      "Ending epoch 58, loss 0.25002484077268894\n",
      "Ending epoch 59, loss 0.25012085902261305\n",
      "Ending epoch 60, loss 0.24984589688949757\n"
     ]
    },
    {
     "name": "stderr",
     "output_type": "stream",
     "text": [
      "/Users/carolinezanze/anaconda3/envs/cns/lib/python3.11/site-packages/torch/nn/modules/loss.py:536: UserWarning: Using a target size (torch.Size([64])) that is different to the input size (torch.Size([64, 1])). This will likely lead to incorrect results due to broadcasting. Please ensure they have the same size.\n",
      "  return F.mse_loss(input, target, reduction=self.reduction)\n",
      "/Users/carolinezanze/anaconda3/envs/cns/lib/python3.11/site-packages/torch/nn/modules/loss.py:536: UserWarning: Using a target size (torch.Size([10])) that is different to the input size (torch.Size([10, 1])). This will likely lead to incorrect results due to broadcasting. Please ensure they have the same size.\n",
      "  return F.mse_loss(input, target, reduction=self.reduction)\n",
      "/Users/carolinezanze/anaconda3/envs/cns/lib/python3.11/site-packages/torch/nn/modules/loss.py:536: UserWarning: Using a target size (torch.Size([64])) that is different to the input size (torch.Size([64, 1])). This will likely lead to incorrect results due to broadcasting. Please ensure they have the same size.\n",
      "  return F.mse_loss(input, target, reduction=self.reduction)\n",
      "/Users/carolinezanze/anaconda3/envs/cns/lib/python3.11/site-packages/torch/nn/modules/loss.py:536: UserWarning: Using a target size (torch.Size([28])) that is different to the input size (torch.Size([28, 1])). This will likely lead to incorrect results due to broadcasting. Please ensure they have the same size.\n",
      "  return F.mse_loss(input, target, reduction=self.reduction)\n",
      "/Users/carolinezanze/anaconda3/envs/cns/lib/python3.11/site-packages/torch/nn/modules/loss.py:536: UserWarning: Using a target size (torch.Size([64])) that is different to the input size (torch.Size([64, 1])). This will likely lead to incorrect results due to broadcasting. Please ensure they have the same size.\n",
      "  return F.mse_loss(input, target, reduction=self.reduction)\n",
      "/Users/carolinezanze/anaconda3/envs/cns/lib/python3.11/site-packages/torch/nn/modules/loss.py:536: UserWarning: Using a target size (torch.Size([24])) that is different to the input size (torch.Size([24, 1])). This will likely lead to incorrect results due to broadcasting. Please ensure they have the same size.\n",
      "  return F.mse_loss(input, target, reduction=self.reduction)\n",
      " 65%|██████▌   | 65/100 [00:02<00:01, 22.71it/s]"
     ]
    },
    {
     "name": "stdout",
     "output_type": "stream",
     "text": [
      "Epoch 60\n",
      "train MSELoss: 0.250 MSE: 0.249\n",
      "val MSELoss: 0.250 MSE: 0.249\n",
      "test MSELoss: 0.250 MSE: 0.249\n",
      "Ending epoch 61, loss 0.25001486249872157\n",
      "Ending epoch 62, loss 0.24997786318396661\n",
      "Ending epoch 63, loss 0.24996899927521612\n",
      "Ending epoch 64, loss 0.24994401298127733\n",
      "Ending epoch 65, loss 0.2500109463124662\n"
     ]
    },
    {
     "name": "stderr",
     "output_type": "stream",
     "text": [
      " 68%|██████▊   | 68/100 [00:03<00:01, 23.57it/s]"
     ]
    },
    {
     "name": "stdout",
     "output_type": "stream",
     "text": [
      "Ending epoch 66, loss 0.24997561284013697\n",
      "Ending epoch 67, loss 0.2501689516477757\n",
      "Ending epoch 68, loss 0.24985964663393861\n",
      "Ending epoch 69, loss 0.2500718488349571\n",
      "Ending epoch 70, loss 0.24998611547388472\n"
     ]
    },
    {
     "name": "stderr",
     "output_type": "stream",
     "text": [
      "/Users/carolinezanze/anaconda3/envs/cns/lib/python3.11/site-packages/torch/nn/modules/loss.py:536: UserWarning: Using a target size (torch.Size([64])) that is different to the input size (torch.Size([64, 1])). This will likely lead to incorrect results due to broadcasting. Please ensure they have the same size.\n",
      "  return F.mse_loss(input, target, reduction=self.reduction)\n",
      "/Users/carolinezanze/anaconda3/envs/cns/lib/python3.11/site-packages/torch/nn/modules/loss.py:536: UserWarning: Using a target size (torch.Size([10])) that is different to the input size (torch.Size([10, 1])). This will likely lead to incorrect results due to broadcasting. Please ensure they have the same size.\n",
      "  return F.mse_loss(input, target, reduction=self.reduction)\n",
      "/Users/carolinezanze/anaconda3/envs/cns/lib/python3.11/site-packages/torch/nn/modules/loss.py:536: UserWarning: Using a target size (torch.Size([64])) that is different to the input size (torch.Size([64, 1])). This will likely lead to incorrect results due to broadcasting. Please ensure they have the same size.\n",
      "  return F.mse_loss(input, target, reduction=self.reduction)\n",
      "/Users/carolinezanze/anaconda3/envs/cns/lib/python3.11/site-packages/torch/nn/modules/loss.py:536: UserWarning: Using a target size (torch.Size([28])) that is different to the input size (torch.Size([28, 1])). This will likely lead to incorrect results due to broadcasting. Please ensure they have the same size.\n",
      "  return F.mse_loss(input, target, reduction=self.reduction)\n",
      "/Users/carolinezanze/anaconda3/envs/cns/lib/python3.11/site-packages/torch/nn/modules/loss.py:536: UserWarning: Using a target size (torch.Size([64])) that is different to the input size (torch.Size([64, 1])). This will likely lead to incorrect results due to broadcasting. Please ensure they have the same size.\n",
      "  return F.mse_loss(input, target, reduction=self.reduction)\n",
      "/Users/carolinezanze/anaconda3/envs/cns/lib/python3.11/site-packages/torch/nn/modules/loss.py:536: UserWarning: Using a target size (torch.Size([24])) that is different to the input size (torch.Size([24, 1])). This will likely lead to incorrect results due to broadcasting. Please ensure they have the same size.\n",
      "  return F.mse_loss(input, target, reduction=self.reduction)\n",
      " 74%|███████▍  | 74/100 [00:03<00:01, 22.60it/s]"
     ]
    },
    {
     "name": "stdout",
     "output_type": "stream",
     "text": [
      "Epoch 70\n",
      "train MSELoss: 0.250 MSE: 0.248\n",
      "val MSELoss: 0.250 MSE: 0.248\n",
      "test MSELoss: 0.250 MSE: 0.249\n",
      "Ending epoch 71, loss 0.24989892139628128\n",
      "Ending epoch 72, loss 0.25002396643698754\n",
      "Ending epoch 73, loss 0.2501059110100205\n",
      "Ending epoch 74, loss 0.24988166424068245\n",
      "Ending epoch 75, loss 0.24991143098822585\n"
     ]
    },
    {
     "name": "stderr",
     "output_type": "stream",
     "text": [
      " 80%|████████  | 80/100 [00:03<00:00, 23.97it/s]"
     ]
    },
    {
     "name": "stdout",
     "output_type": "stream",
     "text": [
      "Ending epoch 76, loss 0.25011595170777123\n",
      "Ending epoch 77, loss 0.24987922259816178\n",
      "Ending epoch 78, loss 0.2500338530218279\n",
      "Ending epoch 79, loss 0.25006616236390294\n",
      "Ending epoch 80, loss 0.24994707805616362\n"
     ]
    },
    {
     "name": "stderr",
     "output_type": "stream",
     "text": [
      "/Users/carolinezanze/anaconda3/envs/cns/lib/python3.11/site-packages/torch/nn/modules/loss.py:536: UserWarning: Using a target size (torch.Size([64])) that is different to the input size (torch.Size([64, 1])). This will likely lead to incorrect results due to broadcasting. Please ensure they have the same size.\n",
      "  return F.mse_loss(input, target, reduction=self.reduction)\n",
      "/Users/carolinezanze/anaconda3/envs/cns/lib/python3.11/site-packages/torch/nn/modules/loss.py:536: UserWarning: Using a target size (torch.Size([10])) that is different to the input size (torch.Size([10, 1])). This will likely lead to incorrect results due to broadcasting. Please ensure they have the same size.\n",
      "  return F.mse_loss(input, target, reduction=self.reduction)\n",
      "/Users/carolinezanze/anaconda3/envs/cns/lib/python3.11/site-packages/torch/nn/modules/loss.py:536: UserWarning: Using a target size (torch.Size([64])) that is different to the input size (torch.Size([64, 1])). This will likely lead to incorrect results due to broadcasting. Please ensure they have the same size.\n",
      "  return F.mse_loss(input, target, reduction=self.reduction)\n",
      "/Users/carolinezanze/anaconda3/envs/cns/lib/python3.11/site-packages/torch/nn/modules/loss.py:536: UserWarning: Using a target size (torch.Size([28])) that is different to the input size (torch.Size([28, 1])). This will likely lead to incorrect results due to broadcasting. Please ensure they have the same size.\n",
      "  return F.mse_loss(input, target, reduction=self.reduction)\n",
      "/Users/carolinezanze/anaconda3/envs/cns/lib/python3.11/site-packages/torch/nn/modules/loss.py:536: UserWarning: Using a target size (torch.Size([64])) that is different to the input size (torch.Size([64, 1])). This will likely lead to incorrect results due to broadcasting. Please ensure they have the same size.\n",
      "  return F.mse_loss(input, target, reduction=self.reduction)\n",
      "/Users/carolinezanze/anaconda3/envs/cns/lib/python3.11/site-packages/torch/nn/modules/loss.py:536: UserWarning: Using a target size (torch.Size([24])) that is different to the input size (torch.Size([24, 1])). This will likely lead to incorrect results due to broadcasting. Please ensure they have the same size.\n",
      "  return F.mse_loss(input, target, reduction=self.reduction)\n",
      " 83%|████████▎ | 83/100 [00:03<00:00, 21.84it/s]"
     ]
    },
    {
     "name": "stdout",
     "output_type": "stream",
     "text": [
      "Epoch 80\n",
      "train MSELoss: 0.251 MSE: 0.249\n",
      "val MSELoss: 0.251 MSE: 0.249\n",
      "test MSELoss: 0.253 MSE: 0.251\n",
      "Ending epoch 81, loss 0.24987266541601302\n",
      "Ending epoch 82, loss 0.2501569303037884\n",
      "Ending epoch 83, loss 0.24981908580741366\n",
      "Ending epoch 84, loss 0.2500564756694141\n",
      "Ending epoch 85, loss 0.2500336556821256\n"
     ]
    },
    {
     "name": "stderr",
     "output_type": "stream",
     "text": [
      " 89%|████████▉ | 89/100 [00:03<00:00, 23.61it/s]"
     ]
    },
    {
     "name": "stdout",
     "output_type": "stream",
     "text": [
      "Ending epoch 86, loss 0.24996823246951574\n",
      "Ending epoch 87, loss 0.25002428728180964\n",
      "Ending epoch 88, loss 0.24997191587546924\n",
      "Ending epoch 89, loss 0.2499977950308774\n",
      "Ending epoch 90, loss 0.24992995944109048\n"
     ]
    },
    {
     "name": "stderr",
     "output_type": "stream",
     "text": [
      "/Users/carolinezanze/anaconda3/envs/cns/lib/python3.11/site-packages/torch/nn/modules/loss.py:536: UserWarning: Using a target size (torch.Size([64])) that is different to the input size (torch.Size([64, 1])). This will likely lead to incorrect results due to broadcasting. Please ensure they have the same size.\n",
      "  return F.mse_loss(input, target, reduction=self.reduction)\n",
      "/Users/carolinezanze/anaconda3/envs/cns/lib/python3.11/site-packages/torch/nn/modules/loss.py:536: UserWarning: Using a target size (torch.Size([10])) that is different to the input size (torch.Size([10, 1])). This will likely lead to incorrect results due to broadcasting. Please ensure they have the same size.\n",
      "  return F.mse_loss(input, target, reduction=self.reduction)\n",
      "/Users/carolinezanze/anaconda3/envs/cns/lib/python3.11/site-packages/torch/nn/modules/loss.py:536: UserWarning: Using a target size (torch.Size([64])) that is different to the input size (torch.Size([64, 1])). This will likely lead to incorrect results due to broadcasting. Please ensure they have the same size.\n",
      "  return F.mse_loss(input, target, reduction=self.reduction)\n",
      "/Users/carolinezanze/anaconda3/envs/cns/lib/python3.11/site-packages/torch/nn/modules/loss.py:536: UserWarning: Using a target size (torch.Size([28])) that is different to the input size (torch.Size([28, 1])). This will likely lead to incorrect results due to broadcasting. Please ensure they have the same size.\n",
      "  return F.mse_loss(input, target, reduction=self.reduction)\n",
      "/Users/carolinezanze/anaconda3/envs/cns/lib/python3.11/site-packages/torch/nn/modules/loss.py:536: UserWarning: Using a target size (torch.Size([64])) that is different to the input size (torch.Size([64, 1])). This will likely lead to incorrect results due to broadcasting. Please ensure they have the same size.\n",
      "  return F.mse_loss(input, target, reduction=self.reduction)\n",
      "/Users/carolinezanze/anaconda3/envs/cns/lib/python3.11/site-packages/torch/nn/modules/loss.py:536: UserWarning: Using a target size (torch.Size([24])) that is different to the input size (torch.Size([24, 1])). This will likely lead to incorrect results due to broadcasting. Please ensure they have the same size.\n",
      "  return F.mse_loss(input, target, reduction=self.reduction)\n",
      " 95%|█████████▌| 95/100 [00:04<00:00, 22.53it/s]"
     ]
    },
    {
     "name": "stdout",
     "output_type": "stream",
     "text": [
      "Epoch 90\n",
      "train MSELoss: 0.250 MSE: 0.248\n",
      "val MSELoss: 0.250 MSE: 0.248\n",
      "test MSELoss: 0.250 MSE: 0.249\n",
      "Ending epoch 91, loss 0.24993389442160324\n",
      "Ending epoch 92, loss 0.25005109473928677\n",
      "Ending epoch 93, loss 0.24993374017444817\n",
      "Ending epoch 94, loss 0.25018120456386256\n",
      "Ending epoch 95, loss 0.2500508069186597\n"
     ]
    },
    {
     "name": "stderr",
     "output_type": "stream",
     "text": [
      "100%|██████████| 100/100 [00:04<00:00, 22.48it/s]"
     ]
    },
    {
     "name": "stdout",
     "output_type": "stream",
     "text": [
      "Ending epoch 96, loss 0.25012529151396706\n",
      "Ending epoch 97, loss 0.2501210786469348\n",
      "Ending epoch 98, loss 0.24994047657326535\n",
      "Ending epoch 99, loss 0.2500727961997728\n",
      "Ending epoch 100, loss 0.24996185343007785\n",
      "Finished training\n",
      "Epoch 100\n",
      "train MSELoss: 0.250 MSE: 0.248\n",
      "val MSELoss: 0.250 MSE: 0.248\n",
      "test MSELoss: 0.252 MSE: 0.250\n",
      "Saved PyTorch model state LinearRegressor_epoch100.pth in /Users/carolinezanze/Desktop/abcd5_output/ABCD_sex_prediction_lr/models\n",
      "Saved trainer state RegressorTrainer_optimizer_epoch100.pth in /Users/carolinezanze/Desktop/abcd5_output/ABCD_sex_prediction_lr/results/states\n",
      "Progress stored in /Users/carolinezanze/Desktop/abcd5_output/ABCD_sex_prediction_lr/results\n"
     ]
    },
    {
     "name": "stderr",
     "output_type": "stream",
     "text": [
      "\n",
      "/Users/carolinezanze/anaconda3/envs/cns/lib/python3.11/site-packages/torch/nn/modules/loss.py:536: UserWarning: Using a target size (torch.Size([64])) that is different to the input size (torch.Size([64, 1])). This will likely lead to incorrect results due to broadcasting. Please ensure they have the same size.\n",
      "  return F.mse_loss(input, target, reduction=self.reduction)\n",
      "/Users/carolinezanze/anaconda3/envs/cns/lib/python3.11/site-packages/torch/nn/modules/loss.py:536: UserWarning: Using a target size (torch.Size([10])) that is different to the input size (torch.Size([10, 1])). This will likely lead to incorrect results due to broadcasting. Please ensure they have the same size.\n",
      "  return F.mse_loss(input, target, reduction=self.reduction)\n",
      "/Users/carolinezanze/anaconda3/envs/cns/lib/python3.11/site-packages/torch/nn/modules/loss.py:536: UserWarning: Using a target size (torch.Size([64])) that is different to the input size (torch.Size([64, 1])). This will likely lead to incorrect results due to broadcasting. Please ensure they have the same size.\n",
      "  return F.mse_loss(input, target, reduction=self.reduction)\n",
      "/Users/carolinezanze/anaconda3/envs/cns/lib/python3.11/site-packages/torch/nn/modules/loss.py:536: UserWarning: Using a target size (torch.Size([28])) that is different to the input size (torch.Size([28, 1])). This will likely lead to incorrect results due to broadcasting. Please ensure they have the same size.\n",
      "  return F.mse_loss(input, target, reduction=self.reduction)\n"
     ]
    }
   ],
   "source": [
    "# Train model\n",
    "trainer.train(model, dataloaders['train'], dataloaders, \n",
    "              nr_epochs=100, starting_from_epoch=0,\n",
    "              print_loss_every=1, eval_every=10, export_every=50, verbose=True)"
   ]
  },
  {
   "attachments": {},
   "cell_type": "markdown",
   "metadata": {},
   "source": []
  },
  {
   "cell_type": "code",
   "execution_count": null,
   "metadata": {},
   "outputs": [],
   "source": []
  },
  {
   "cell_type": "code",
   "execution_count": null,
   "metadata": {},
   "outputs": [],
   "source": []
  }
 ],
 "metadata": {
  "kernelspec": {
   "display_name": "cns",
   "language": "python",
   "name": "python3"
  },
  "language_info": {
   "codemirror_mode": {
    "name": "ipython",
    "version": 3
   },
   "file_extension": ".py",
   "mimetype": "text/x-python",
   "name": "python",
   "nbconvert_exporter": "python",
   "pygments_lexer": "ipython3",
   "version": "3.11.3"
  },
  "orig_nbformat": 4
 },
 "nbformat": 4,
 "nbformat_minor": 2
}
